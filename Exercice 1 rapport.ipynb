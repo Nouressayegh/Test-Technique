{
 "cells": [
  {
   "cell_type": "markdown",
   "metadata": {},
   "source": [
    "# Exercice 1:\n",
    "\n",
    "Pour cet exercice, le problème qui se pose est le suivant :\n",
    "Trouver une plage horaire de 60 min pendant la semaine à venir pour organiser une réunion entre 8:00 à 17:59.\n",
    "\n",
    "J'ai commencé la réflexion par une simplification du problème pour mieux visualiser les étapes et complexifier petit à petit jusqu'à ce que le résultat final du code traite le problème dans toute sa complexité."
   ]
  },
  {
   "cell_type": "markdown",
   "metadata": {},
   "source": [
    "## Étape 1 : Travail sur une liste d'horaire correspondant au même jour et à la même personne (sans chevauchement)  :\n",
    "\n",
    "pour cette première étape, j'ai décidé de traiter des listes d'horaire du même jour et sans prendre en compte les chevauchements d'horaire. Comme si mon analyse ne correspond qu'à la recherche du créneau pour une personne unique un jour précis de la semaine.\n",
    "\n",
    "Pour pouvoir travailler avec la forme imposée par l'énoncé j'ai défini une première fonction __convert__ pour avoir un tuple d'entier correspondant à (heure, minute)"
   ]
  },
  {
   "cell_type": "code",
   "execution_count": 1,
   "metadata": {},
   "outputs": [],
   "source": [
    "def convert(horaire):\n",
    "    heure =''\n",
    "    minute=''\n",
    "    for i in range(len(horaire)) :\n",
    "        if horaire[i] ==\":\":\n",
    "            break\n",
    "        heure += horaire[i]\n",
    "    #on garde que les minutes\n",
    "    minute= horaire.replace(heure+':','')\n",
    "    return (int(heure),int(minute))"
   ]
  },
  {
   "cell_type": "markdown",
   "metadata": {},
   "source": [
    "On fait un test rapide."
   ]
  },
  {
   "cell_type": "code",
   "execution_count": 2,
   "metadata": {},
   "outputs": [
    {
     "data": {
      "text/plain": [
       "(15, 20)"
      ]
     },
     "execution_count": 2,
     "metadata": {},
     "output_type": "execute_result"
    }
   ],
   "source": [
    "horaire=\"15:20\"\n",
    "\n",
    "convert(horaire)"
   ]
  },
  {
   "cell_type": "markdown",
   "metadata": {},
   "source": [
    "Une autre fonction que sera fondamentale pour le trouver une plage de 60 min entre les horaires est la fonction __duree__ qui calcule le nombre de min entre deux horaires."
   ]
  },
  {
   "cell_type": "code",
   "execution_count": 3,
   "metadata": {},
   "outputs": [],
   "source": [
    "def duree(horaire1, horaire2):\n",
    "    \n",
    "    horaire1=convert(horaire1)\n",
    "    horaire2=convert(horaire2)\n",
    "    \n",
    "    #convertir en minutes\n",
    "    h1=horaire1[0]*60 +horaire1[1]\n",
    "    h2=horaire2[0]*60 +horaire2[1]\n",
    "    duree = h2-h1+1\n",
    "    return duree\n"
   ]
  },
  {
   "cell_type": "markdown",
   "metadata": {},
   "source": [
    "On fait un petit test en faisant bien attention à inclure les minutes de début et de fin dans l'horaire."
   ]
  },
  {
   "cell_type": "code",
   "execution_count": 4,
   "metadata": {},
   "outputs": [
    {
     "data": {
      "text/plain": [
       "60"
      ]
     },
     "execution_count": 4,
     "metadata": {},
     "output_type": "execute_result"
    }
   ],
   "source": [
    "horaire1=\"8:00\"\n",
    "horaire2=\"8:59\"\n",
    "\n",
    "duree(horaire1, horaire2)"
   ]
  },
  {
   "cell_type": "markdown",
   "metadata": {},
   "source": [
    "Avec une liste contenant un seul horaire on peut faire le choix du créneau de la façon suivante."
   ]
  },
  {
   "cell_type": "code",
   "execution_count": 5,
   "metadata": {},
   "outputs": [
    {
     "name": "stdout",
     "output_type": "stream",
     "text": [
      "Il y a un horaire entre 17:00 et 17:59\n"
     ]
    }
   ],
   "source": [
    "L=['1','1 08:30-09:45']\n",
    "debut=\"8:00\"\n",
    "fin=\"17:59\"\n",
    "#tester avant et après le premier créneau\n",
    "if duree(debut,L[1][2:7])>60 :\n",
    "    print( \"Il y a un horaire entre 8:00 et 8:59 \")\n",
    "elif duree(L[1][8:],fin)>60 :\n",
    "    print(\"Il y a un horaire entre 17:00 et 17:59\")\n"
   ]
  },
  {
   "cell_type": "markdown",
   "metadata": {},
   "source": [
    "Cette étape nous donne l'idée de tester par la suite entre 8h et le début de la première indisponibilité ainsi que la fin du dernier créneau d'indisponibilité de la même journée et 17:59."
   ]
  },
  {
   "cell_type": "markdown",
   "metadata": {},
   "source": [
    "## Étape 2 : Gestion de plusieurs listes d'horaire et des chevauchements\n",
    "\n",
    "Pour cette deuxième étape nous devons assembler les listes avec les horaires de chaque personne concernées par la réunion et arranger les horaires pour revenir au cas de non-chevauchement des horaires.\n",
    "\n",
    "Cela nous simplifiera la recherche d'horaire par la suite. Pour l'instant les horaires correspondent toujours à un même jour.\n",
    "\n",
    "Notre première fonction est une fonction d'ordre qui indique si l'heure 1 et inférieure à l'heure 2 c'est-à-dire plus tôt dans la journée."
   ]
  },
  {
   "cell_type": "code",
   "execution_count": 6,
   "metadata": {},
   "outputs": [],
   "source": [
    "def ordre_inferieur(horaire1,horaire2):\n",
    "    horaire1=convert(horaire1)\n",
    "    horaire2=convert(horaire2)\n",
    "    #comparer les heures\n",
    "    if horaire1[0]< horaire2[0]:\n",
    "        return True\n",
    "    #comparer les minutes si les heures sont égales\n",
    "    elif horaire1[1]<= horaire2[1] and horaire1[0]== horaire2[0]:\n",
    "        return True \n",
    "    else :\n",
    "        return False"
   ]
  },
  {
   "cell_type": "markdown",
   "metadata": {},
   "source": [
    "On définit la fonction __ordonner__ qui prend une liste de listes des horaires de chaque personne et la concatène en ordonnant le tout tel que les horaires de début des indisponibilités sont dans l'ordre croissant entre 8: 00 et 17: 59.\n",
    "\n",
    "Cet ordre nous permettra une implémentation simplifiée de la fonction qui fera la fusion des horaires qui se chevauche. J'ai opté pour le tri à bulles pour sa simplicité."
   ]
  },
  {
   "cell_type": "code",
   "execution_count": 7,
   "metadata": {},
   "outputs": [],
   "source": [
    "def ordonner(L_Total):\n",
    "    #mettre tout dans une même liste\n",
    "    L=[0]\n",
    "    for l in L_Total :\n",
    "        L+=l[1:]\n",
    "    L[0]=str(len(L[1:])) \n",
    "    #trier la liste avec un tri bulle\n",
    "    for i in range (int(L[0])):\n",
    "        for j in range (1,int(L[0])-i):\n",
    "            if ordre_inferieur(L[j+1][2:7],L[j][2:7]):\n",
    "                L[j+1],L[j]=L[j],L[j+1]\n",
    "    #retourner la liste triée\n",
    "    return L"
   ]
  },
  {
   "cell_type": "markdown",
   "metadata": {},
   "source": [
    "On fait un petit test avec trois listes d'indisponibilité."
   ]
  },
  {
   "cell_type": "code",
   "execution_count": 8,
   "metadata": {},
   "outputs": [
    {
     "data": {
      "text/plain": [
       "['9',\n",
       " '1 08:30-09:45',\n",
       " '1 08:31-09:50',\n",
       " '1 09:45-10:35',\n",
       " '1 10:45-11:30',\n",
       " '1 10:55-11:30',\n",
       " '1 11:10-12:12',\n",
       " '1 13:15-14:12',\n",
       " '1 14:11-15:35',\n",
       " '1 17:30-17:40']"
      ]
     },
     "execution_count": 8,
     "metadata": {},
     "output_type": "execute_result"
    }
   ],
   "source": [
    "L1=['3','1 08:30-09:45','1 10:55-11:30','1 11:10-12:12']\n",
    "L2=['4','1 08:31-09:50','1 10:45-11:30','1 13:15-14:12','1 17:30-17:40']\n",
    "L3=['2','1 09:45-10:35','1 14:11-15:35']\n",
    "\n",
    "L=[L1,L2,L3]\n",
    "\n",
    "L_ordonnee=ordonner(L)\n",
    "L_ordonnee"
   ]
  },
  {
   "cell_type": "markdown",
   "metadata": {},
   "source": [
    "Maintenant nous allons nous occuper de fusionner les plages d'horaires qui se chevauchent. \n",
    "\n",
    "Pour cela j'ai implémenté une première fonction qui teste et fusionne ou pas deux plages horaires."
   ]
  },
  {
   "cell_type": "code",
   "execution_count": 9,
   "metadata": {},
   "outputs": [],
   "source": [
    "def fusion(H1,H2):\n",
    "    L=[]\n",
    "    #si H2 est inclu dans H1\n",
    "    if ordre_inferieur(H2[2:7],H1[8:])and ordre_inferieur(H2[8:],H1[8:]):\n",
    "        L.append(H1)\n",
    "        return L\n",
    "    #si H2 debute dans H1 \n",
    "    elif ordre_inferieur(H1[8:],H2[8:]) and ordre_inferieur(H2[2:7],H1[8:])and ordre_inferieur(H1[2:7],H2[2:7]):\n",
    "        L.append(H1[0:8]+H2[8:])\n",
    "        return L\n",
    "    #si ils sont disjoints\n",
    "    else:\n",
    "        L.append(H1)\n",
    "        L.append(H2)\n",
    "        return L"
   ]
  },
  {
   "cell_type": "code",
   "execution_count": 10,
   "metadata": {},
   "outputs": [
    {
     "data": {
      "text/plain": [
       "['1 08:31-10:35']"
      ]
     },
     "execution_count": 10,
     "metadata": {},
     "output_type": "execute_result"
    }
   ],
   "source": [
    "h1='1 08:31-09:50'\n",
    "h2='1 09:45-10:35'\n",
    "fusion(h1,h2)"
   ]
  },
  {
   "cell_type": "markdown",
   "metadata": {},
   "source": [
    "Nous allons donc appliquer cette fonction sur notre liste déjà triée."
   ]
  },
  {
   "cell_type": "code",
   "execution_count": 11,
   "metadata": {},
   "outputs": [],
   "source": [
    "def fusionner(L):\n",
    "    #le nombre de creneaux\n",
    "    n=int(L[0])\n",
    "    #notre liste où on va retrouver les horaires non superposés\n",
    "    L_final=[0]\n",
    "    #On fixe le premier horaire qui nous permet de faire la comparaison au debut puis les changement suivant si il y a eu fusion ou non\n",
    "    horaireFinRef=L[1]\n",
    "    for i in range(2,n+1):\n",
    "        horairefin=L[i]\n",
    "        \n",
    "        #si on a pas de fusion \n",
    "        if len(fusion(horaireFinRef,horairefin))==2:\n",
    "            #on rajoute l'horaire s'il n'est pas déja dans la liste\n",
    "            if horaireFinRef!=L_final[-1]:\n",
    "                L_final.append(horaireFinRef)\n",
    "            L_final.append(horairefin)\n",
    "            #initiation de l'horaire de reference\n",
    "            horaireFinRef=horairefin\n",
    "            \n",
    "       #si on peut fusionner\n",
    "        else:\n",
    "            #on insère le nouvel horaire fusionné dans notre liste\n",
    "            horaireFinRef=fusion(horaireFinRef,horairefin)[0]\n",
    "            L_final.append(horaireFinRef)\n",
    "            \n",
    "            #Si dans notre liste final le nouvel horaire peut se fusionner avec un horaire déjà dans la liste par une fusion anterieure \n",
    "            if len(L_final)>2 and len(fusion(L_final[-2],L_final[-1]))==1 :\n",
    "                #on supprime l'intrevalle le moins englobant.\n",
    "                del L_final[-2]\n",
    "            \n",
    "    L_final[0]=str(len(L_final[1:]))\n",
    "    return L_final\n",
    "        "
   ]
  },
  {
   "cell_type": "markdown",
   "metadata": {},
   "source": [
    "L'implémentation de cette fonction a été un vrai challenge puisque j'ai testé la récursivité en premier temps mais un problème récupération de la liste se posait. C'est pour cette raison que j'ai opté pour une manipulation de liste assez classique avec la récupération des éléments importants dans un élément de référence puis dans une liste."
   ]
  },
  {
   "cell_type": "markdown",
   "metadata": {},
   "source": [
    "Nous allons reprendre le test que nous avons effectué précédemment pour voir si notre fonction s'exécute correctement."
   ]
  },
  {
   "cell_type": "code",
   "execution_count": 12,
   "metadata": {},
   "outputs": [
    {
     "data": {
      "text/plain": [
       "['4', '1 08:30-10:35', '1 10:45-12:12', '1 13:15-15:35', '1 17:30-17:40']"
      ]
     },
     "execution_count": 12,
     "metadata": {},
     "output_type": "execute_result"
    }
   ],
   "source": [
    "L_fusionnee=fusionner(L_ordonnee)\n",
    "L_fusionnee"
   ]
  },
  {
   "cell_type": "markdown",
   "metadata": {},
   "source": [
    "On voit bien que le problème est simplifié de cette façon et que maintenant nous pouvons prédire un horaire de disponibilité.\n"
   ]
  },
  {
   "cell_type": "markdown",
   "metadata": {},
   "source": [
    "Tout d'abord, j'ai défini une fonction qui donne en sortie l'heure +1 pour une question d'affichage."
   ]
  },
  {
   "cell_type": "code",
   "execution_count": 13,
   "metadata": {},
   "outputs": [],
   "source": [
    "def plus_1h(H):\n",
    "    #convertir en int\n",
    "    H=convert(H)\n",
    "    Hbis=[]\n",
    "    #ajouter une heure en traitant le cas particulier sur les minutes\n",
    "    if H[1]!=0 :\n",
    "        Hbis.append(H[0]+1)\n",
    "        Hbis.append(H[1]-1)\n",
    "    else:\n",
    "        Hbis.append(H[0])\n",
    "        Hbis.append(59)\n",
    "    #convertir en str\n",
    "    H=str(Hbis[0])+':'+str(Hbis[1])\n",
    "    return H"
   ]
  },
  {
   "cell_type": "markdown",
   "metadata": {},
   "source": [
    "La fonction qui détecte un horaire disponible dans une même journée."
   ]
  },
  {
   "cell_type": "code",
   "execution_count": 14,
   "metadata": {},
   "outputs": [],
   "source": [
    "def disponible (L):\n",
    "    #les horaires limites\n",
    "    debut=\"8:00\"\n",
    "    fin=\"17:59\"\n",
    "    #liste où l'on va mettre l'horaire qui est valable\n",
    "    horaires=[]\n",
    "    n=int(L[0])\n",
    "    i=1\n",
    "    #on teste le premier horaire\n",
    "    if duree(debut,L[1][2:7])>60 :\n",
    "        horaires.append(L[1][0]+' 08:00-08:59')\n",
    "        \n",
    "    #on teste entre les horaires de la journée\n",
    "    while i<n:\n",
    "        if duree( L[i][8:],L[i+1][2:7])>60 and horaires==[]:\n",
    "            horaires.append(L[1][0]+' '+L[i][8:]+'-'+plus_1h(L[i][8:]))\n",
    "        i+=1\n",
    "    #on teste le dernier \n",
    "    if duree(L[-1][8:],fin)>60 and horaires==[]:\n",
    "            horaires.append(L[1][0]+' 17:00-17:59')\n",
    "    return horaires"
   ]
  },
  {
   "cell_type": "markdown",
   "metadata": {},
   "source": [
    "On peux tester sur le même exemple."
   ]
  },
  {
   "cell_type": "markdown",
   "metadata": {},
   "source": [
    "Les horaires indisponibles sont :"
   ]
  },
  {
   "cell_type": "code",
   "execution_count": 15,
   "metadata": {},
   "outputs": [
    {
     "data": {
      "text/plain": [
       "['4', '1 08:30-10:35', '1 10:45-12:12', '1 13:15-15:35', '1 17:30-17:40']"
      ]
     },
     "execution_count": 15,
     "metadata": {},
     "output_type": "execute_result"
    }
   ],
   "source": [
    "L_fusionnee"
   ]
  },
  {
   "cell_type": "markdown",
   "metadata": {},
   "source": [
    "Un horaire de disponibilité :"
   ]
  },
  {
   "cell_type": "code",
   "execution_count": 16,
   "metadata": {},
   "outputs": [
    {
     "data": {
      "text/plain": [
       "['1 12:12-13:11']"
      ]
     },
     "execution_count": 16,
     "metadata": {},
     "output_type": "execute_result"
    }
   ],
   "source": [
    "disponible(L_fusionnee)"
   ]
  },
  {
   "cell_type": "markdown",
   "metadata": {},
   "source": [
    "__Remarque:__ Pour cette fonction j'ai choisi de rajouter la condition de \"horaires==[]\" pour n'avoir qu'un seul horaire et ne pas perdre en temps complexité à tester tous les horaires disponibles alors que nous n'avons besoin que d'un seul. J'ai aussi pris le soin de tester l'horaire de fin de journée en dernier parce que je trouve que personne n'apprécie vraiment les réunions à la dernière minute de la journée !"
   ]
  },
  {
   "cell_type": "markdown",
   "metadata": {},
   "source": [
    "## Etape 3 : Généralisation à tout les jours de la semaine\n",
    "\n",
    "\n"
   ]
  },
  {
   "cell_type": "markdown",
   "metadata": {},
   "source": [
    "Pour la généralisation, l'idée est d'utiliser une liste triée d'horaire sans prendre en considération les jours puis la séparer dans une liste de 5 listes correspondant aux 5 jours de la semaine.\n",
    "\n",
    "Ensuite une liste des disponibilités de chaque jour est calculé à l'aide de la fonction __disponible__ implémentée précédemment.Le premier horaire est donc affiché."
   ]
  },
  {
   "cell_type": "code",
   "execution_count": 17,
   "metadata": {},
   "outputs": [],
   "source": [
    "def separer(L):\n",
    "    L_sep=[[0],[0],[0],[0],[0]]\n",
    "    #conditions sur les 5 jours de la semaine\n",
    "    for l in L[1:] :\n",
    "        if l[0]=='1':\n",
    "            L_sep[0].append(l)\n",
    "        elif l[0]=='2':\n",
    "            L_sep[1].append(l)\n",
    "        elif l[0]=='3':\n",
    "            L_sep[2].append(l)\n",
    "        elif l[0]=='4':\n",
    "            L_sep[3].append(l)\n",
    "        else:\n",
    "            L_sep[4].append(l)\n",
    "    #initialisation du nombre d'horaires indisponibles dans chaque jour de la semaine     \n",
    "    for i in range (len(L_sep)):\n",
    "        L_sep[i][0]=str(len(L_sep[i][1:]))\n",
    "    return L_sep"
   ]
  },
  {
   "cell_type": "code",
   "execution_count": 18,
   "metadata": {},
   "outputs": [],
   "source": [
    "def disponible_semaine(L):\n",
    "    H=[]\n",
    "    for i in range (len(L)):\n",
    "        if L[i]!=['0']:\n",
    "            H.append(disponible(L[i]))\n",
    "            \n",
    "        else:\n",
    "            H.append([str(i)+' 08:00-08:59'])\n",
    "\n",
    "    i=0\n",
    "    while i<len(H):\n",
    "        if H[i]!=[] :\n",
    "            Horaire=H[i]\n",
    "            i+=1\n",
    "            break\n",
    "    return Horaire"
   ]
  },
  {
   "cell_type": "markdown",
   "metadata": {},
   "source": [
    "## Test général."
   ]
  },
  {
   "cell_type": "code",
   "execution_count": 20,
   "metadata": {},
   "outputs": [
    {
     "name": "stdout",
     "output_type": "stream",
     "text": [
      "liste ordonée :\n"
     ]
    },
    {
     "data": {
      "text/plain": [
       "['20',\n",
       " '2 08:11-09:23',\n",
       " '1 08:20-08:50',\n",
       " '1 10:15-12:12',\n",
       " '1 10:31-11:50',\n",
       " '2 10:45-11:30',\n",
       " '1 11:15-12:12',\n",
       " '5 11:15-15:18',\n",
       " '2 11:45-11:30',\n",
       " '2 12:35-17:34',\n",
       " '3 14:00-15:17',\n",
       " '5 14:15-15:18',\n",
       " '5 14:15-15:18',\n",
       " '3 14:50-17:50',\n",
       " '4 15:03-16:09',\n",
       " '4 15:30-17:40',\n",
       " '1 16:15-17:12',\n",
       " '5 16:19-17:00',\n",
       " '2 16:30-16:55',\n",
       " '1 16:30-17:40',\n",
       " '1 17:30-17:40']"
      ]
     },
     "execution_count": 20,
     "metadata": {},
     "output_type": "execute_result"
    }
   ],
   "source": [
    "L1=['8','2 08:11-09:23','2 10:45-11:30','1 10:15-12:12','5 14:15-15:18','1 17:30-17:40','4 15:03-16:09','3 14:00-15:17','5 16:19-17:00']\n",
    "L2=['5','1 10:31-11:50','2 12:35-17:34','1 16:15-17:12','5 11:15-15:18','4 15:30-17:40']\n",
    "L3=['7','1 08:20-08:50','2 11:45-11:30','1 11:15-12:12','5 14:15-15:18','1 16:30-17:40','3 14:50-17:50','2 16:30-16:55']\n",
    "\n",
    "#On ordonne par horaire\n",
    "L_ordre=ordonner([L1,L2,L3])\n",
    "print(\"liste ordonée :\")\n",
    "L_ordre"
   ]
  },
  {
   "cell_type": "code",
   "execution_count": 21,
   "metadata": {},
   "outputs": [
    {
     "name": "stdout",
     "output_type": "stream",
     "text": [
      "liste séparée par jours de la semaine :\n"
     ]
    },
    {
     "data": {
      "text/plain": [
       "[['7',\n",
       "  '1 08:20-08:50',\n",
       "  '1 10:15-12:12',\n",
       "  '1 10:31-11:50',\n",
       "  '1 11:15-12:12',\n",
       "  '1 16:15-17:12',\n",
       "  '1 16:30-17:40',\n",
       "  '1 17:30-17:40'],\n",
       " ['5',\n",
       "  '2 08:11-09:23',\n",
       "  '2 10:45-11:30',\n",
       "  '2 11:45-11:30',\n",
       "  '2 12:35-17:34',\n",
       "  '2 16:30-16:55'],\n",
       " ['2', '3 14:00-15:17', '3 14:50-17:50'],\n",
       " ['2', '4 15:03-16:09', '4 15:30-17:40'],\n",
       " ['4', '5 11:15-15:18', '5 14:15-15:18', '5 14:15-15:18', '5 16:19-17:00']]"
      ]
     },
     "execution_count": 21,
     "metadata": {},
     "output_type": "execute_result"
    }
   ],
   "source": [
    "#On separe par jour de la semaine\n",
    "L_sep=separer(L_ordre)\n",
    "print(\"liste séparée par jours de la semaine :\")\n",
    "L_sep"
   ]
  },
  {
   "cell_type": "code",
   "execution_count": 22,
   "metadata": {},
   "outputs": [
    {
     "name": "stdout",
     "output_type": "stream",
     "text": [
      "la liste des indisponibilités de la semaine séparé par les jours de la semaine :\n"
     ]
    },
    {
     "data": {
      "text/plain": [
       "[['3', '1 08:20-08:50', '1 10:15-12:12', '1 16:15-17:40'],\n",
       " ['4', '2 08:11-09:23', '2 10:45-11:30', '2 11:45-11:30', '2 12:35-17:34'],\n",
       " ['1', '3 14:00-17:50'],\n",
       " ['1', '4 15:03-17:40'],\n",
       " ['2', '5 11:15-15:18', '5 16:19-17:00']]"
      ]
     },
     "execution_count": 22,
     "metadata": {},
     "output_type": "execute_result"
    }
   ],
   "source": [
    "#on fusionne les horaires dans chaque semaine\n",
    "L_sep_fusion=[]\n",
    "for l in L_sep :\n",
    "    L_sep_fusion.append(fusionner(l))\n",
    "    \n",
    "print(\"la liste des indisponibilités de la semaine séparé par les jours de la semaine :\")\n",
    "L_sep_fusion\n"
   ]
  },
  {
   "cell_type": "code",
   "execution_count": 23,
   "metadata": {},
   "outputs": [
    {
     "name": "stdout",
     "output_type": "stream",
     "text": [
      "on peut faire la réunion à :\n"
     ]
    },
    {
     "data": {
      "text/plain": [
       "['1 08:50-9:49']"
      ]
     },
     "execution_count": 23,
     "metadata": {},
     "output_type": "execute_result"
    }
   ],
   "source": [
    "print(\"on peut faire la réunion à :\")\n",
    "disponible_semaine(L_sep_fusion)"
   ]
  }
 ],
 "metadata": {
  "kernelspec": {
   "display_name": "Python 3",
   "language": "python",
   "name": "python3"
  },
  "language_info": {
   "codemirror_mode": {
    "name": "ipython",
    "version": 3
   },
   "file_extension": ".py",
   "mimetype": "text/x-python",
   "name": "python",
   "nbconvert_exporter": "python",
   "pygments_lexer": "ipython3",
   "version": "3.8.3"
  }
 },
 "nbformat": 4,
 "nbformat_minor": 4
}
